{
 "cells": [
  {
   "cell_type": "code",
   "execution_count": 59,
   "id": "6d9f0d3d",
   "metadata": {
    "ExecuteTime": {
     "end_time": "2021-09-23T02:16:31.483621Z",
     "start_time": "2021-09-23T02:16:31.479843Z"
    }
   },
   "outputs": [],
   "source": [
    "import pandas as pd\n",
    "import srsly\n",
    "from pathlib import Path\n",
    "import time\n",
    "from uuid import uuid4\n",
    "import gtts\n",
    "import librosa\n",
    "import numpy as np\n",
    "import soundfile\n",
    "from pydub import AudioSegment\n",
    "import shutil\n",
    "\n",
    "from IPython.core.interactiveshell import InteractiveShell\n",
    "InteractiveShell.ast_node_interactivity = \"all\"\n",
    "pd.options.display.max_colwidth = 100"
   ]
  },
  {
   "cell_type": "code",
   "execution_count": 70,
   "id": "cb16dc95",
   "metadata": {
    "ExecuteTime": {
     "end_time": "2021-09-23T02:30:24.359783Z",
     "start_time": "2021-09-23T02:30:24.348606Z"
    }
   },
   "outputs": [],
   "source": [
    "def format_episode(episode_raw):\n",
    "    # as a dataframe\n",
    "    episode = []\n",
    "    for e in episode_raw['dialog']:\n",
    "        episode.extend([{'id': ee['id'], 'text': ee['text']} for ee in e])\n",
    "\n",
    "    return (pd.DataFrame(episode)\n",
    "            .reset_index()\n",
    "            .rename(mapper={'index': 'exchange_index'}, axis='columns')\n",
    "            .assign(speaker=lambda x: x.id.apply(lambda y: int(y.split('_')[1])))\n",
    "            )\n",
    "\n",
    "\n",
    "def synthesize_tts_episode(episode_df, output_dir):\n",
    "    # given an episode DF, synthesize audio for each utterance\n",
    "    for idx, e in episode_df.iterrows():\n",
    "        time.sleep(1)  # prevent IP banning?\n",
    "        # format text/save file\n",
    "        save_path = output_dir / f\"{e.exchange_index}_speaker_{e.speaker}.mp3\"\n",
    "\n",
    "        # alternative voices, useful for debugging, could be improved with more variance\n",
    "        if e.speaker == 1:\n",
    "            tts = gtts.gTTS(e.text, lang='en', tld='com', slow=True)\n",
    "        elif e.speaker == 2:\n",
    "            tts = gtts.gTTS(e.text, lang='en', tld='ca', slow=True)\n",
    "\n",
    "        tts.save(save_path)\n",
    "\n",
    "\n",
    "def get_utterance_df(output_dir):\n",
    "    # DF with utterance audio arrays + useful metadata\n",
    "    audio_file_records = []\n",
    "    for e in sorted(list(output_dir.rglob('./*.mp3'))):\n",
    "        y, s = librosa.load(e.as_posix())  # new downsample rate\n",
    "        audio_file_records.append(\n",
    "            {'file': e.name, 'sample_array': y, 'sample_array_shape': y.shape[0]})\n",
    "\n",
    "    return (pd.DataFrame(audio_file_records)\n",
    "            .sort_values('file')\n",
    "            .assign(channel=lambda x: x.file.apply(lambda y: int(y.split('_')[-1][0])))\n",
    "            .reset_index(drop=True)\n",
    "            )\n",
    "\n",
    "\n",
    "def pad_and_collate_channel_audio(utterance_df, output_dir):\n",
    "    # pad channel 1/2 chunks to ensure for interleaving pattern, isolate across seperate channels\n",
    "    channel_1_segments = []\n",
    "    channel_2_segments = []\n",
    "    for idx, e in utterance_df.iterrows():\n",
    "        if idx % 2 == 0:\n",
    "            print(f\"{e.file} is even\")\n",
    "            # even indices are channel 1; starting first, indexing from zero\n",
    "            channel_1_segments.append(e.sample_array)  # the actual samples\n",
    "            # pad alternating channel (channel 2) with equivalent size zero array\n",
    "            channel_2_segments.append(\n",
    "                np.zeros(e.sample_array.shape[0], dtype=np.float32))\n",
    "        else:\n",
    "            print(f\"{e.file} is odd\")\n",
    "            # odd indices are channel 2\n",
    "            channel_2_segments.append(e.sample_array)\n",
    "            # otherwise, channel 2 length zero array\n",
    "            channel_1_segments.append(\n",
    "                np.zeros(e.sample_array.shape[0], dtype=np.float32))\n",
    "\n",
    "    # temp save for channel 1/2 audio - saves as mono\n",
    "    default_sr = 22050\n",
    "    channel_1_padded = np.concatenate(channel_1_segments)\n",
    "    soundfile.write(output_dir / 'channel_1_temp.wav',\n",
    "                    channel_1_padded, default_sr)\n",
    "\n",
    "    channel_2_padded = np.concatenate(channel_2_segments)\n",
    "    soundfile.write(output_dir / 'channel_2_temp.wav',\n",
    "                    channel_2_padded, default_sr)\n",
    "\n",
    "\n",
    "def collate_channel_audio(output_dir):\n",
    "    # consolidate into an interleaving, channel seperated source\n",
    "    left_channel = AudioSegment.from_wav(output_dir / 'channel_1_temp.wav')\n",
    "    right_channel = AudioSegment.from_wav(output_dir / 'channel_2_temp.wav')\n",
    "\n",
    "    # load individual channels...\n",
    "    stereo_sound = AudioSegment.from_mono_audiosegments(\n",
    "        left_channel, right_channel)\n",
    "    stereo_sound.export(output_dir / f\"{output_dir.name}_final.wav\")"
   ]
  },
  {
   "cell_type": "code",
   "execution_count": 61,
   "id": "fcb5306d",
   "metadata": {
    "ExecuteTime": {
     "end_time": "2021-09-23T02:16:38.584351Z",
     "start_time": "2021-09-23T02:16:38.441881Z"
    }
   },
   "outputs": [],
   "source": [
    "base_output_dir = Path(\n",
    "    '/home/samhardyhey/otso-rand/experiment_artefacts/stt_adjacent_processing/synthesis/')\n",
    "# a collection of self-chat episodes\n",
    "self_chat = list(srsly.read_jsonl(\n",
    "    '/home/samhardyhey/otso-rand/experiment_artefacts/stt_data_synthesis/exp_a/TransformerGenerator_1_TransformerGenerator_2_selfchat.jsonl'))"
   ]
  },
  {
   "cell_type": "code",
   "execution_count": 71,
   "id": "20b5c31d",
   "metadata": {
    "ExecuteTime": {
     "end_time": "2021-09-23T02:30:48.919573Z",
     "start_time": "2021-09-23T02:30:28.431217Z"
    }
   },
   "outputs": [
    {
     "name": "stderr",
     "output_type": "stream",
     "text": [
      "/home/samhardyhey/.local/lib/python3.8/site-packages/librosa/core/audio.py:165: UserWarning: PySoundFile failed. Trying audioread instead.\n",
      "  warnings.warn(\"PySoundFile failed. Trying audioread instead.\")\n",
      "/home/samhardyhey/.local/lib/python3.8/site-packages/librosa/core/audio.py:165: UserWarning: PySoundFile failed. Trying audioread instead.\n",
      "  warnings.warn(\"PySoundFile failed. Trying audioread instead.\")\n",
      "/home/samhardyhey/.local/lib/python3.8/site-packages/librosa/core/audio.py:165: UserWarning: PySoundFile failed. Trying audioread instead.\n",
      "  warnings.warn(\"PySoundFile failed. Trying audioread instead.\")\n",
      "/home/samhardyhey/.local/lib/python3.8/site-packages/librosa/core/audio.py:165: UserWarning: PySoundFile failed. Trying audioread instead.\n",
      "  warnings.warn(\"PySoundFile failed. Trying audioread instead.\")\n",
      "/home/samhardyhey/.local/lib/python3.8/site-packages/librosa/core/audio.py:165: UserWarning: PySoundFile failed. Trying audioread instead.\n",
      "  warnings.warn(\"PySoundFile failed. Trying audioread instead.\")\n",
      "/home/samhardyhey/.local/lib/python3.8/site-packages/librosa/core/audio.py:165: UserWarning: PySoundFile failed. Trying audioread instead.\n",
      "  warnings.warn(\"PySoundFile failed. Trying audioread instead.\")\n",
      "/home/samhardyhey/.local/lib/python3.8/site-packages/librosa/core/audio.py:165: UserWarning: PySoundFile failed. Trying audioread instead.\n",
      "  warnings.warn(\"PySoundFile failed. Trying audioread instead.\")\n",
      "/home/samhardyhey/.local/lib/python3.8/site-packages/librosa/core/audio.py:165: UserWarning: PySoundFile failed. Trying audioread instead.\n",
      "  warnings.warn(\"PySoundFile failed. Trying audioread instead.\")\n"
     ]
    }
   ],
   "source": [
    "# for episode in self_chat:\n",
    "episode = self_chat[0]\n",
    "# format episode\n",
    "episode = format_episode(episode).head(8)\n",
    "\n",
    "# create unique output dir\n",
    "episode_id = uuid4().hex\n",
    "output_dir = base_output_dir / episode_id\n",
    "output_dir.mkdir(\n",
    "    exist_ok=True, parents=True) if output_dir.exists() == False else None\n",
    "\n",
    "# synthesize, save audio\n",
    "synthesize_tts_episode(episode, output_dir)\n",
    "\n",
    "# retrieve raw audio amplitude arrays\n",
    "utterance_df = get_utterance_df(output_dir)"
   ]
  },
  {
   "cell_type": "code",
   "execution_count": 94,
   "id": "9fac3403",
   "metadata": {
    "ExecuteTime": {
     "end_time": "2021-09-23T02:38:45.297282Z",
     "start_time": "2021-09-23T02:38:44.617322Z"
    }
   },
   "outputs": [
    {
     "name": "stdout",
     "output_type": "stream",
     "text": [
      "0_speaker_1.mp3 is even\n",
      "1_speaker_2.mp3 is odd\n",
      "2_speaker_1.mp3 is even\n",
      "3_speaker_2.mp3 is odd\n",
      "4_speaker_1.mp3 is even\n",
      "5_speaker_2.mp3 is odd\n",
      "6_speaker_1.mp3 is even\n",
      "7_speaker_2.mp3 is odd\n"
     ]
    }
   ],
   "source": [
    "# collate/pad/save into channel-specific wav files\n",
    "pad_and_collate_channel_audio(utterance_df, output_dir)\n",
    "\n",
    "# consolidate into final file\n",
    "collate_channel_audio(output_dir)"
   ]
  },
  {
   "cell_type": "code",
   "execution_count": 97,
   "id": "c868d901",
   "metadata": {
    "ExecuteTime": {
     "end_time": "2021-09-23T02:40:11.488340Z",
     "start_time": "2021-09-23T02:40:11.484122Z"
    }
   },
   "outputs": [
    {
     "data": {
      "text/plain": [
       "PosixPath('/home/samhardyhey/otso-rand/experiment_artefacts/stt_adjacent_processing/synthesis/8c0bcaf407aa464d80c86d7fcfddb568')"
      ]
     },
     "execution_count": 97,
     "metadata": {},
     "output_type": "execute_result"
    }
   ],
   "source": [
    "output_dir"
   ]
  },
  {
   "cell_type": "code",
   "execution_count": 30,
   "id": "cc20aaac",
   "metadata": {
    "ExecuteTime": {
     "end_time": "2021-09-23T00:51:46.399547Z",
     "start_time": "2021-09-23T00:51:46.397128Z"
    }
   },
   "outputs": [],
   "source": [
    "from pydub import AudioSegment"
   ]
  },
  {
   "cell_type": "code",
   "execution_count": 37,
   "id": "fccfb2f2",
   "metadata": {
    "ExecuteTime": {
     "end_time": "2021-09-23T00:54:15.115726Z",
     "start_time": "2021-09-23T00:54:14.857286Z"
    }
   },
   "outputs": [],
   "source": [
    "channel_1 = AudioSegment.from_file('/home/samhardyhey/otso-rand/experiment_artefacts/stt_adjacent_processing/synthesis/28f812fb47584582b864b7655859ead1/channel_1_temp.wav')\n",
    "channel_2 = AudioSegment.from_file('/home/samhardyhey/otso-rand/experiment_artefacts/stt_adjacent_processing/synthesis/28f812fb47584582b864b7655859ead1/channel_2_temp.wav')\n",
    "merged = AudioSegment.from_file('/home/samhardyhey/otso-rand/experiment_artefacts/stt_adjacent_processing/synthesis/28f812fb47584582b864b7655859ead1/28f812fb47584582b864b7655859ead1_final.wav')"
   ]
  },
  {
   "cell_type": "code",
   "execution_count": null,
   "id": "56b82607",
   "metadata": {},
   "outputs": [],
   "source": [
    "# put the final wavs in a single dir\n",
    "episode_wav_dir = base_output_dir / 'episode_wavs'\n",
    "episode_wav_dir.mkdir(exist_ok=True, parents=True) if episode_wav_dir.exists() == False else None\n",
    "\n",
    "for e in list(base_output_dir.rglob('./*.wav')):\n",
    "    if 'final' in e.as_posix():\n",
    "        shutil.move(e.as_posix(), (episode_wav_dir / e.name).as_posix())"
   ]
  },
  {
   "cell_type": "markdown",
   "id": "e0d4ab08",
   "metadata": {},
   "source": [
    "## Potentially experiment with different TLD for different voices"
   ]
  },
  {
   "cell_type": "code",
   "execution_count": null,
   "id": "9e68d1b6",
   "metadata": {},
   "outputs": [],
   "source": [
    ".google.com .google.ad .google.ae .google.com.af .google.com.ag .google.com.ai .google.al .google.am .google.co.ao .google.com.ar .google.as .google.at .google.com.au .google.az .google.ba .google.com.bd .google.be .google.bf .google.bg .google.com.bh .google.bi .google.bj .google.com.bn .google.com.bo .google.com.br .google.bs .google.bt .google.co.bw .google.by .google.com.bz .google.ca .google.cd .google.cf .google.cg .google.ch .google.ci .google.co.ck .google.cl .google.cm .google.cn .google.com.co .google.co.cr .google.com.cu .google.cv .google.com.cy .google.cz .google.de .google.dj .google.dk .google.dm .google.com.do .google.dz .google.com.ec .google.ee .google.com.eg .google.es .google.com.et .google.fi .google.com.fj .google.fm .google.fr .google.ga .google.ge .google.gg .google.com.gh .google.com.gi .google.gl .google.gm .google.gr .google.com.gt .google.gy .google.com.hk .google.hn .google.hr .google.ht .google.hu .google.co.id .google.ie .google.co.il .google.im .google.co.in .google.iq .google.is .google.it .google.je .google.com.jm .google.jo .google.co.jp .google.co.ke .google.com.kh .google.ki .google.kg .google.co.kr .google.com.kw .google.kz .google.la .google.com.lb .google.li .google.lk .google.co.ls .google.lt .google.lu .google.lv .google.com.ly .google.co.ma .google.md .google.me .google.mg .google.mk .google.ml .google.com.mm .google.mn .google.ms .google.com.mt .google.mu .google.mv .google.mw .google.com.mx .google.com.my .google.co.mz .google.com.na .google.com.ng .google.com.ni .google.ne .google.nl .google.no .google.com.np .google.nr .google.nu .google.co.nz .google.com.om .google.com.pa .google.com.pe .google.com.pg .google.com.ph .google.com.pk .google.pl .google.pn .google.com.pr .google.ps .google.pt .google.com.py .google.com.qa .google.ro .google.ru .google.rw .google.com.sa .google.com.sb .google.sc .google.se .google.com.sg .google.sh .google.si .google.sk .google.com.sl .google.sn .google.so .google.sm .google.sr .google.st .google.com.sv .google.td .google.tg .google.co.th .google.com.tj .google.tl .google.tm .google.tn .google.to .google.com.tr .google.tt .google.com.tw .google.co.tz .google.com.ua .google.co.ug .google.co.uk .google.com.uy .google.co.uz .google.com.vc .google.co.ve .google.vg .google.co.vi .google.com.vn .google.vu .google.ws .google.rs .google.co.za .google.co.zm .google.co.zw .google.cat"
   ]
  },
  {
   "cell_type": "code",
   "execution_count": null,
   "id": "59c8de62",
   "metadata": {},
   "outputs": [],
   "source": [
    "tts = gtts.gTTS(e.text, lang='en', tld='com', slow=True)"
   ]
  },
  {
   "cell_type": "code",
   "execution_count": null,
   "id": "f9f6ffe9",
   "metadata": {},
   "outputs": [],
   "source": [
    "if e.speaker == 1:\n",
    "    tts = gtts.gTTS(e.text, lang='en', tld='com', slow=True)\n",
    "elif e.speaker == 2:\n",
    "    tts = gtts.gTTS(e.text, lang='en', tld='ca', slow=True)"
   ]
  },
  {
   "cell_type": "code",
   "execution_count": 77,
   "id": "40bd04c8",
   "metadata": {
    "ExecuteTime": {
     "end_time": "2021-09-23T02:32:41.668463Z",
     "start_time": "2021-09-23T02:32:40.433119Z"
    }
   },
   "outputs": [
    {
     "data": {
      "text/html": [
       "\n",
       "                    <audio controls>\n",
       "                        <source src=\"data:audio/mpeg;base64,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\" type=\"audio/mpeg\"/>\n",
       "                        Your browser does not support the audio element.\n",
       "                    </audio>\n",
       "                  "
      ],
      "text/plain": [
       "<pydub.audio_segment.AudioSegment at 0x7f7bc070f5e0>"
      ]
     },
     "execution_count": 77,
     "metadata": {},
     "output_type": "execute_result"
    }
   ],
   "source": [
    "from gtts import gTTS\n",
    "from io import BytesIO\n",
    "\n",
    "tts = gtts.gTTS('hello world my name is Sam', lang='en', tld='com', slow=True)\n",
    "tts.save('/home/samhardyhey/temp_audio.mp3')\n",
    "AudioSegment.from_file('/home/samhardyhey/temp_audio.mp3')"
   ]
  }
 ],
 "metadata": {
  "kernelspec": {
   "display_name": "Python 3",
   "language": "python",
   "name": "python3"
  },
  "language_info": {
   "codemirror_mode": {
    "name": "ipython",
    "version": 3
   },
   "file_extension": ".py",
   "mimetype": "text/x-python",
   "name": "python",
   "nbconvert_exporter": "python",
   "pygments_lexer": "ipython3",
   "version": "3.8.8"
  }
 },
 "nbformat": 4,
 "nbformat_minor": 5
}
